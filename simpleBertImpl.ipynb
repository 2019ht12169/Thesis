{
  "nbformat": 4,
  "nbformat_minor": 0,
  "metadata": {
    "colab": {
      "name": "simpleBertImpl.ipynb",
      "provenance": [],
      "collapsed_sections": [],
      "machine_shape": "hm",
      "authorship_tag": "ABX9TyOWmkl7QaxApZdeUgH2bFRR",
      "include_colab_link": true
    },
    "kernelspec": {
      "display_name": "Python 3",
      "name": "python3"
    },
    "language_info": {
      "name": "python"
    },
    "accelerator": "TPU"
  },
  "cells": [
    {
      "cell_type": "markdown",
      "metadata": {
        "id": "view-in-github",
        "colab_type": "text"
      },
      "source": [
        "<a href=\"https://colab.research.google.com/github/2019ht12169/Thesis/blob/main/simpleBertImpl.ipynb\" target=\"_parent\"><img src=\"https://colab.research.google.com/assets/colab-badge.svg\" alt=\"Open In Colab\"/></a>"
      ]
    },
    {
      "cell_type": "code",
      "metadata": {
        "id": "4w3GYwcCbwTB"
      },
      "source": [
        "from google.colab import drive\n",
        "drive.mount(\"/content/gdrive\")"
      ],
      "execution_count": null,
      "outputs": []
    },
    {
      "cell_type": "code",
      "metadata": {
        "id": "ZdCkm5ruiCoI"
      },
      "source": [
        "! python3.7 -m pip install tensorflow-gpu==1.15.0\n",
        "import pandas as pd\n",
        "from sklearn.model_selection import train_test_split"
      ],
      "execution_count": null,
      "outputs": []
    },
    {
      "cell_type": "code",
      "metadata": {
        "id": "0IDxqUlsdSqq"
      },
      "source": [
        "# check out what the data looks like before you get started\n",
        "# look at the training data set\n",
        "train_df = pd.read_csv('/content/gdrive/MyDrive/projects/data/dataFile_latest_train.csv',index_col=None)\n",
        "train_df=train_df.drop(['review_date'],axis='columns')\n",
        "train_df = train_df.dropna().reset_index(drop=True)\n",
        "\n",
        "# look at the test data set\n",
        "test_df = pd.read_csv('/content/gdrive/MyDrive/projects/data/dataFile_latest_test.csv',index_col=None)\n",
        "test_df = test_df.dropna().reset_index(drop=True)"
      ],
      "execution_count": 164,
      "outputs": []
    },
    {
      "cell_type": "code",
      "metadata": {
        "id": "xw7T-Nkgl5-I"
      },
      "source": [
        "train_df['label'].astype(int)\n",
        "test_df['label'].astype(int)"
      ],
      "execution_count": null,
      "outputs": []
    },
    {
      "cell_type": "code",
      "metadata": {
        "id": "76rKIypbflmW"
      },
      "source": [
        "bert_df = pd.DataFrame({\n",
        "    'id': range(len(train_df)),\n",
        "    'label': train_df['label'],\n",
        "    'alpha': ['q']*train_df.shape[0],\n",
        "    'text': train_df['text'].replace(r'\\n', ' ', regex=True)\n",
        "})\n",
        "\n",
        "train_bert_df, dev_bert_df = train_test_split(bert_df, test_size=0.2)"
      ],
      "execution_count": 168,
      "outputs": []
    },
    {
      "cell_type": "code",
      "metadata": {
        "colab": {
          "base_uri": "https://localhost:8080/"
        },
        "id": "GxMpHkub3FZW",
        "outputId": "3537f5a8-7101-421d-8ea7-6ae7f08e36d0"
      },
      "source": [
        "print(len(train_bert_df))\n",
        "print(len(dev_bert_df))"
      ],
      "execution_count": 169,
      "outputs": [
        {
          "output_type": "stream",
          "name": "stdout",
          "text": [
            "992095\n",
            "248024\n"
          ]
        }
      ]
    },
    {
      "cell_type": "code",
      "metadata": {
        "id": "cTQyYCeHfzOa"
      },
      "source": [
        "test_bert_df = pd.DataFrame({\n",
        "    'id': range(len(test_df)),\n",
        "    'text': test_df['text'].replace(r'\\n', ' ', regex=True),\n",
        "    'review_date': test_df['review_date']\n",
        "})"
      ],
      "execution_count": 172,
      "outputs": []
    },
    {
      "cell_type": "code",
      "metadata": {
        "id": "ZBdtsaDZhlh2"
      },
      "source": [
        "train_bert_df.to_csv('/content/gdrive/MyDrive/projects/data/Data-BERT/train.tsv', sep='\\t', index=False, header=False)\n",
        "dev_bert_df.to_csv('/content/gdrive/MyDrive/projects/data/Data-BERT/dev.tsv', sep='\\t', index=False, header=False)\n",
        "test_bert_df.to_csv('/content/gdrive/MyDrive/projects/data/Data-BERT/test.tsv', sep='\\t', index=False, header=True)"
      ],
      "execution_count": 173,
      "outputs": []
    },
    {
      "cell_type": "code",
      "metadata": {
        "id": "UVTAwL4epJs7"
      },
      "source": [
        "! python /content/gdrive/MyDrive/projects/bert/run_classifier.py --task_name=cola --do_train=true --do_eval=true --data_dir=/content/gdrive/MyDrive/projects/data/Data-BERT --vocab_file=/content/gdrive/MyDrive/projects/uncased_L-12_H-768_A-12/vocab.txt --bert_config_file=/content/gdrive/MyDrive/projects/uncased_L-12_H-768_A-12/bert_config.json --init_checkpoint=/content/gdrive/MyDrive/projects/uncased_L-12_H-768_A-12/bert_model.ckpt --max_seq_length=128 --train_batch_size=32 --learning_rate=2e-5 --num_train_epochs=3.0 --output_dir=/content/gdrive/MyDrive/projects/data/Data-BERT/model_output --do_lower_case=true\n"
      ],
      "execution_count": null,
      "outputs": []
    },
    {
      "cell_type": "code",
      "metadata": {
        "id": "bh5YERp62-71"
      },
      "source": [
        "!python /content/gdrive/MyDrive/projects/bert/run_classifier.py --task_name=cola --do_predict=true --data_dir=/content/gdrive/MyDrive/projects/data/Data-BERT --vocab_file=/content/gdrive/MyDrive/projects/uncased_L-12_H-768_A-12/vocab.txt --bert_config_file=/content/gdrive/MyDrive/projects/uncased_L-12_H-768_A-12/bert_config.json --init_checkpoint=/content/gdrive/MyDrive/projects/model_output_latest/model.ckpt-43736 --max_seq_length=128 --output_dir=/content/gdrive/MyDrive/projects/data/Data-BERT/model_output_latest/"
      ],
      "execution_count": null,
      "outputs": []
    },
    {
      "cell_type": "code",
      "metadata": {
        "id": "j0lzNCNmbXvS"
      },
      "source": [
        "#read the original test data for the text and id\n",
        "df_test = pd.read_csv('/content/gdrive/MyDrive/projects/data/Data-BERT/test.tsv', sep='\\t',index_col=None)\n",
        "\n",
        "#read the results data for the probabilities\n",
        "df_result = pd.read_csv('/content/gdrive/MyDrive/projects/data/Data-BERT/model_output_latest/test_results.tsv', sep='\\t',names=['neg', 'pos'])\n"
      ],
      "execution_count": 175,
      "outputs": []
    },
    {
      "cell_type": "code",
      "metadata": {
        "id": "aOG3nNxfb0Sx"
      },
      "source": [
        "#create a new dataframe\n",
        "df_map_result = pd.DataFrame({\n",
        "    'pred_label': df_result.idxmax(axis=1),\n",
        "    'actual_label': test_df['label'],\n",
        "    'review_date': df_test['review_date'],\n",
        "    'text': df_test['text']})\n",
        "#view sample rows of the newly created dataframe\n",
        "df_map_result.to_csv('/content/gdrive/MyDrive/projects/data/Data-BERT/mapped_results.csv',header=True,index=False)\n"
      ],
      "execution_count": 176,
      "outputs": []
    },
    {
      "cell_type": "code",
      "metadata": {
        "id": "Y7U1mv81zKu8"
      },
      "source": [
        "# grouping for data visualization [grouping by label]\n",
        "score = df_map_result['text'].groupby(df_map_result['pred_label'])\n",
        "score.count()"
      ],
      "execution_count": null,
      "outputs": []
    },
    {
      "cell_type": "code",
      "metadata": {
        "id": "94JW_4jrzio2"
      },
      "source": [
        "# grouping for data visualization [grouping by review date's year]\n",
        "df_map_result['review_date'] = pd.to_datetime(df_map_result['review_date'])\n",
        "score1 = df_map_result['text'].groupby(df_map_result['review_date'].dt.strftime('%Y'))\n",
        "score1.count()"
      ],
      "execution_count": null,
      "outputs": []
    }
  ]
}