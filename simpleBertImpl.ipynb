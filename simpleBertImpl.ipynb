{
  "nbformat": 4,
  "nbformat_minor": 0,
  "metadata": {
    "colab": {
      "name": "simpleBertImpl.ipynb",
      "provenance": [],
      "collapsed_sections": [],
      "machine_shape": "hm",
      "authorship_tag": "ABX9TyOXkk8Ef0CYUnFpWfO30Ixm",
      "include_colab_link": true
    },
    "kernelspec": {
      "display_name": "Python 3",
      "name": "python3"
    },
    "language_info": {
      "name": "python"
    },
    "accelerator": "TPU"
  },
  "cells": [
    {
      "cell_type": "markdown",
      "metadata": {
        "id": "view-in-github",
        "colab_type": "text"
      },
      "source": [
        "<a href=\"https://colab.research.google.com/github/2019ht12169/Thesis/blob/main/simpleBertImpl.ipynb\" target=\"_parent\"><img src=\"https://colab.research.google.com/assets/colab-badge.svg\" alt=\"Open In Colab\"/></a>"
      ]
    },
    {
      "cell_type": "code",
      "metadata": {
        "id": "4w3GYwcCbwTB"
      },
      "source": [
        "from google.colab import drive\n",
        "drive.mount(\"/content/gdrive\")"
      ],
      "execution_count": null,
      "outputs": []
    },
    {
      "cell_type": "code",
      "metadata": {
        "id": "ZdCkm5ruiCoI"
      },
      "source": [
        "! python3.7 -m pip install tensorflow-gpu==1.15.0\n",
        "import pandas as pd\n",
        "from sklearn.model_selection import train_test_split\n",
        "from sklearn.metrics import classification_report, confusion_matrix\n",
        "from sklearn.metrics import precision_recall_fscore_support as score\n",
        "import matplotlib.pyplot as plt "
      ],
      "execution_count": null,
      "outputs": []
    },
    {
      "cell_type": "code",
      "metadata": {
        "id": "0IDxqUlsdSqq"
      },
      "source": [
        "# check out what the data looks like before you get started\n",
        "# look at the training data set\n",
        "train_df = pd.read_csv('/content/gdrive/MyDrive/projects/data/dataFile_latest_train.csv',index_col=None)\n",
        "train_df=train_df.drop(['review_date'],axis='columns')\n",
        "train_df = train_df.dropna().reset_index(drop=True)\n",
        "\n",
        "# look at the test data set\n",
        "test_df = pd.read_csv('/content/gdrive/MyDrive/projects/data/dataFile_latest_test.csv',index_col=None)\n",
        "test_df = test_df.dropna().reset_index(drop=True)"
      ],
      "execution_count": 11,
      "outputs": []
    },
    {
      "cell_type": "code",
      "metadata": {
        "id": "xw7T-Nkgl5-I"
      },
      "source": [
        "train_df['label'].astype(int)\n",
        "test_df['label'].astype(int)"
      ],
      "execution_count": null,
      "outputs": []
    },
    {
      "cell_type": "code",
      "metadata": {
        "colab": {
          "base_uri": "https://localhost:8080/",
          "height": 303
        },
        "id": "PcGIxZojZhc6",
        "outputId": "5734b0b9-ace0-4111-f5a6-5ead528e934c"
      },
      "source": [
        "import seaborn as sns\n",
        "\n",
        "# Print the Distribution of Labels\n",
        "sns.set_theme(style=\"whitegrid\")\n",
        "ax = train_df['label'].value_counts(sort=False).plot(kind='barh', color='b')\n",
        "ax.set_xlabel('Count')\n",
        "ax.set_ylabel('Labels')"
      ],
      "execution_count": 14,
      "outputs": [
        {
          "output_type": "execute_result",
          "data": {
            "text/plain": [
              "Text(0, 0.5, 'Labels')"
            ]
          },
          "metadata": {},
          "execution_count": 14
        },
        {
          "output_type": "display_data",
          "data": {
            "image/png": "[encoded data removed]",
            "text/plain": [
              "<Figure size 432x288 with 1 Axes>"
            ]
          },
          "metadata": {}
        }
      ]
    },
    {
      "cell_type": "code",
      "metadata": {
        "id": "76rKIypbflmW"
      },
      "source": [
        "bert_df = pd.DataFrame({\n",
        "    'id': range(len(train_df)),\n",
        "    'label': train_df['label'],\n",
        "    'alpha': ['q']*train_df.shape[0],\n",
        "    'text': train_df['text'].replace(r'\\n', ' ', regex=True)\n",
        "})\n",
        "\n",
        "train_bert_df, dev_bert_df = train_test_split(bert_df, test_size=0.2)"
      ],
      "execution_count": 15,
      "outputs": []
    },
    {
      "cell_type": "code",
      "metadata": {
        "colab": {
          "base_uri": "https://localhost:8080/"
        },
        "id": "GxMpHkub3FZW",
        "outputId": "35bb1954-547a-41a2-8cd3-952b2b8c4e27"
      },
      "source": [
        "print(len(train_bert_df))\n",
        "print(len(dev_bert_df))"
      ],
      "execution_count": 16,
      "outputs": [
        {
          "output_type": "stream",
          "name": "stdout",
          "text": [
            "992095\n",
            "248024\n"
          ]
        }
      ]
    },
    {
      "cell_type": "code",
      "metadata": {
        "id": "cTQyYCeHfzOa"
      },
      "source": [
        "test_bert_df = pd.DataFrame({\n",
        "    'id': range(len(test_df)),\n",
        "    'text': test_df['text'].replace(r'\\n', ' ', regex=True),\n",
        "    'review_date': test_df['review_date']\n",
        "})"
      ],
      "execution_count": 17,
      "outputs": []
    },
    {
      "cell_type": "code",
      "metadata": {
        "id": "ZBdtsaDZhlh2"
      },
      "source": [
        "train_bert_df.to_csv('/content/gdrive/MyDrive/projects/data/Data-BERT/train.tsv', sep='\\t', index=False, header=False)\n",
        "dev_bert_df.to_csv('/content/gdrive/MyDrive/projects/data/Data-BERT/dev.tsv', sep='\\t', index=False, header=False)\n",
        "test_bert_df.to_csv('/content/gdrive/MyDrive/projects/data/Data-BERT/test.tsv', sep='\\t', index=False, header=True)"
      ],
      "execution_count": 18,
      "outputs": []
    },
    {
      "cell_type": "code",
      "metadata": {
        "id": "UVTAwL4epJs7"
      },
      "source": [
        "! python /content/gdrive/MyDrive/projects/bert/run_classifier.py --task_name=cola --do_train=true --do_eval=true --data_dir=/content/gdrive/MyDrive/projects/data/Data-BERT --vocab_file=/content/gdrive/MyDrive/projects/uncased_L-12_H-768_A-12/vocab.txt --bert_config_file=/content/gdrive/MyDrive/projects/uncased_L-12_H-768_A-12/bert_config.json --init_checkpoint=/content/gdrive/MyDrive/projects/uncased_L-12_H-768_A-12/bert_model.ckpt --max_seq_length=128 --train_batch_size=32 --learning_rate=2e-5 --num_train_epochs=3.0 --output_dir=/content/gdrive/MyDrive/projects/data/Data-BERT/model_output --do_lower_case=true\n"
      ],
      "execution_count": null,
      "outputs": []
    },
    {
      "cell_type": "code",
      "metadata": {
        "id": "bh5YERp62-71"
      },
      "source": [
        "!python /content/gdrive/MyDrive/projects/bert/run_classifier.py --task_name=cola --do_predict=true --data_dir=/content/gdrive/MyDrive/projects/data/Data-BERT --vocab_file=/content/gdrive/MyDrive/projects/uncased_L-12_H-768_A-12/vocab.txt --bert_config_file=/content/gdrive/MyDrive/projects/uncased_L-12_H-768_A-12/bert_config.json --init_checkpoint=/content/gdrive/MyDrive/projects/model_output_latest/model.ckpt-43736 --max_seq_length=128 --output_dir=/content/gdrive/MyDrive/projects/data/Data-BERT/model_output_latest/"
      ],
      "execution_count": null,
      "outputs": []
    },
    {
      "cell_type": "code",
      "metadata": {
        "id": "j0lzNCNmbXvS"
      },
      "source": [
        "#read the original test data for the text and id\n",
        "df_test = pd.read_csv('/content/gdrive/MyDrive/projects/data/Data-BERT/test.tsv', sep='\\t',index_col=None)\n",
        "\n",
        "#read the results data for the probabilities\n",
        "df_result = pd.read_csv('/content/gdrive/MyDrive/projects/data/Data-BERT/model_output_latest/test_results.tsv', sep='\\t',names=['neg', 'pos'])\n"
      ],
      "execution_count": 32,
      "outputs": []
    },
    {
      "cell_type": "code",
      "metadata": {
        "colab": {
          "base_uri": "https://localhost:8080/",
          "height": 206
        },
        "id": "aOG3nNxfb0Sx",
        "outputId": "240b47cb-a5e0-4aa2-cb1c-a9a9992698e7"
      },
      "source": [
        "\n",
        "test_df.loc[test_df['label'] == 1, 'actual_label'] = 'pos'\n",
        "test_df.loc[test_df['label'] == 0, 'actual_label'] = 'neg'\n",
        "\n",
        "#create a new dataframe\n",
        "df_map_result = pd.DataFrame({\n",
        "    'pred_label': df_result.idxmax(axis=1),\n",
        "    'actual_label': test_df['actual_label'],\n",
        "    'review_date': df_test['review_date'],\n",
        "    'text': df_test['text']})\n",
        "\n",
        "#view sample rows of the newly created dataframe\n",
        "df_map_result.to_csv('/content/gdrive/MyDrive/projects/data/Data-BERT/mapped_results.csv',header=True,index=False)\n",
        "df_map_result.head()"
      ],
      "execution_count": 37,
      "outputs": [
        {
          "output_type": "execute_result",
          "data": {
            "text/html": [
              "<div>\n",
              "<style scoped>\n",
              "    .dataframe tbody tr th:only-of-type {\n",
              "        vertical-align: middle;\n",
              "    }\n",
              "\n",
              "    .dataframe tbody tr th {\n",
              "        vertical-align: top;\n",
              "    }\n",
              "\n",
              "    .dataframe thead th {\n",
              "        text-align: right;\n",
              "    }\n",
              "</style>\n",
              "<table border=\"1\" class=\"dataframe\">\n",
              "  <thead>\n",
              "    <tr style=\"text-align: right;\">\n",
              "      <th></th>\n",
              "      <th>pred_label</th>\n",
              "      <th>actual_label</th>\n",
              "      <th>review_date</th>\n",
              "      <th>text</th>\n",
              "    </tr>\n",
              "  </thead>\n",
              "  <tbody>\n",
              "    <tr>\n",
              "      <th>0</th>\n",
              "      <td>pos</td>\n",
              "      <td>pos</td>\n",
              "      <td>2015-01-07</td>\n",
              "      <td>five stars works well for my house where i con...</td>\n",
              "    </tr>\n",
              "    <tr>\n",
              "      <th>1</th>\n",
              "      <td>pos</td>\n",
              "      <td>pos</td>\n",
              "      <td>2011-05-07</td>\n",
              "      <td>great for the price! i bought these to plug in...</td>\n",
              "    </tr>\n",
              "    <tr>\n",
              "      <th>2</th>\n",
              "      <td>pos</td>\n",
              "      <td>pos</td>\n",
              "      <td>2014-09-26</td>\n",
              "      <td>great results this little antenna works very w...</td>\n",
              "    </tr>\n",
              "    <tr>\n",
              "      <th>3</th>\n",
              "      <td>pos</td>\n",
              "      <td>pos</td>\n",
              "      <td>2011-12-23</td>\n",
              "      <td>great sound quality this set of headphones has...</td>\n",
              "    </tr>\n",
              "    <tr>\n",
              "      <th>4</th>\n",
              "      <td>pos</td>\n",
              "      <td>pos</td>\n",
              "      <td>2013-10-29</td>\n",
              "      <td>everything i wanted in my new music device thi...</td>\n",
              "    </tr>\n",
              "  </tbody>\n",
              "</table>\n",
              "</div>"
            ],
            "text/plain": [
              "  pred_label  ...                                               text\n",
              "0        pos  ...  five stars works well for my house where i con...\n",
              "1        pos  ...  great for the price! i bought these to plug in...\n",
              "2        pos  ...  great results this little antenna works very w...\n",
              "3        pos  ...  great sound quality this set of headphones has...\n",
              "4        pos  ...  everything i wanted in my new music device thi...\n",
              "\n",
              "[5 rows x 4 columns]"
            ]
          },
          "metadata": {},
          "execution_count": 37
        }
      ]
    },
    {
      "cell_type": "code",
      "metadata": {
        "id": "uUohtJsE-shM"
      },
      "source": [
        "def evaluate_results(mapped_df):\n",
        "    y_true = mapped_df['actual_label']\n",
        "    y_pred = mapped_df['pred_label']\n",
        "    target_names = ['neg','pos']\n",
        "\n",
        "    # Print the Confusion Matrix\n",
        "    results_log = classification_report(y_true, y_pred, target_names=target_names, output_dict=True)\n",
        "    results_df_log = pd.DataFrame(results_log).transpose()\n",
        "    print(results_df_log)\n",
        "    matrix = confusion_matrix(y_true,  y_pred)\n",
        "    sns.heatmap(pd.DataFrame(matrix), \n",
        "                annot=True, fmt=\"d\", linewidths=.5, cmap=\"YlGnBu\")\n",
        "    plt.xlabel('Predictions')\n",
        "    plt.xlabel('Actual')\n",
        "    \n",
        "    model_score = score(y_pred, y_true, average='macro')\n",
        "    return model_score"
      ],
      "execution_count": 41,
      "outputs": []
    },
    {
      "cell_type": "code",
      "metadata": {
        "colab": {
          "base_uri": "https://localhost:8080/",
          "height": 389
        },
        "id": "WMmMzdXP_A-b",
        "outputId": "dff100d2-db34-472d-afe4-90c5b83b94df"
      },
      "source": [
        "model_score = evaluate_results(df_map_result)\n",
        "performance_df = pd.DataFrame().append({'model_name': 'BERT classifier', \n",
        "                                    'f1_score': model_score[0], \n",
        "                                    'precision': model_score[1], \n",
        "                                    'recall': model_score[2]}, ignore_index=True)"
      ],
      "execution_count": 44,
      "outputs": [
        {
          "output_type": "stream",
          "name": "stdout",
          "text": [
            "              precision    recall  f1-score        support\n",
            "neg            0.928473  0.596902  0.726651  155012.000000\n",
            "pos            0.703017  0.954025  0.809510  155042.000000\n",
            "accuracy       0.775481  0.775481  0.775481       0.775481\n",
            "macro avg      0.815745  0.775464  0.768080  310054.000000\n",
            "weighted avg   0.815734  0.775481  0.768084  310054.000000\n"
          ]
        },
        {
          "output_type": "display_data",
          "data": {
            "image/png": "[encoded data removed]",
            "text/plain": [
              "<Figure size 432x288 with 2 Axes>"
            ]
          },
          "metadata": {}
        }
      ]
    },
    {
      "cell_type": "code",
      "metadata": {
        "colab": {
          "base_uri": "https://localhost:8080/",
          "height": 353
        },
        "id": "4-5wj84OADnR",
        "outputId": "91e3fb68-04c7-4b19-f287-d39f84827474"
      },
      "source": [
        "print(performance_df)\n",
        "\n",
        "fig, ax = plt.subplots(figsize=(12, 4))\n",
        "tidy = performance_df.melt(id_vars='model_name').rename(columns=str.title)\n",
        "sns.barplot(y='Model_Name', x='Value', hue='Variable', data=tidy, ax=ax, palette='husl',  linewidth=1, edgecolor=\"w\")\n",
        "plt.title('Model Outlier Detection Performance (Macro)')"
      ],
      "execution_count": 45,
      "outputs": [
        {
          "output_type": "stream",
          "name": "stdout",
          "text": [
            "   f1_score       model_name  precision   recall\n",
            "0  0.775464  BERT classifier   0.815745  0.76808\n"
          ]
        },
        {
          "output_type": "execute_result",
          "data": {
            "text/plain": [
              "Text(0.5, 1.0, 'Model Outlier Detection Performance (Macro)')"
            ]
          },
          "metadata": {},
          "execution_count": 45
        },
        {
          "output_type": "display_data",
          "data": {
            "image/png": "[encoded data removed]",
            "text/plain": [
              "<Figure size 864x288 with 1 Axes>"
            ]
          },
          "metadata": {}
        }
      ]
    },
    {
      "cell_type": "code",
      "metadata": {
        "colab": {
          "base_uri": "https://localhost:8080/"
        },
        "id": "Y7U1mv81zKu8",
        "outputId": "f2ae0933-c5e0-4d09-c834-fd2cdc3bc96c"
      },
      "source": [
        "# grouping for data visualization [grouping by label]\n",
        "score = df_map_result['text'].groupby(df_map_result['pred_label'])\n",
        "score.count()"
      ],
      "execution_count": 21,
      "outputs": [
        {
          "output_type": "execute_result",
          "data": {
            "text/plain": [
              "pred_label\n",
              "neg     99655\n",
              "pos    210399\n",
              "Name: text, dtype: int64"
            ]
          },
          "metadata": {},
          "execution_count": 21
        }
      ]
    },
    {
      "cell_type": "code",
      "metadata": {
        "colab": {
          "base_uri": "https://localhost:8080/"
        },
        "id": "94JW_4jrzio2",
        "outputId": "4e2bf1f1-415b-4b63-9f1f-dbca6c0ab75b"
      },
      "source": [
        "# grouping for data visualization [grouping by review date's year]\n",
        "df_map_result['review_date'] = pd.to_datetime(df_map_result['review_date'])\n",
        "score1 = df_map_result['text'].groupby(df_map_result['review_date'].dt.strftime('%Y'))\n",
        "score1.count()"
      ],
      "execution_count": 22,
      "outputs": [
        {
          "output_type": "execute_result",
          "data": {
            "text/plain": [
              "review_date\n",
              "1999       43\n",
              "2000      445\n",
              "2001      623\n",
              "2002      842\n",
              "2003     1105\n",
              "2004     1468\n",
              "2005     2264\n",
              "2006     3259\n",
              "2007     6214\n",
              "2008     7284\n",
              "2009     9457\n",
              "2010    12985\n",
              "2011    19533\n",
              "2012    27512\n",
              "2013    55523\n",
              "2014    82481\n",
              "2015    79016\n",
              "Name: text, dtype: int64"
            ]
          },
          "metadata": {},
          "execution_count": 22
        }
      ]
    },
    {
      "cell_type": "code",
      "metadata": {
        "id": "QEiONFrZUIPf"
      },
      "source": [
        "92527 - true negative\n",
        "147914 - true positive\n",
        "62485 - false negative\n",
        "7128 - false positive"
      ],
      "execution_count": null,
      "outputs": []
    },
    {
      "cell_type": "code",
      "metadata": {
        "colab": {
          "base_uri": "https://localhost:8080/"
        },
        "id": "Voy2ZTQ9V5Ts",
        "outputId": "f4ff7d7d-a199-43ab-e38d-579001d35a64"
      },
      "source": [
        "(92527+147914)/(92527+147914+62485+7128)"
      ],
      "execution_count": 47,
      "outputs": [
        {
          "output_type": "execute_result",
          "data": {
            "text/plain": [
              "0.7754810452372812"
            ]
          },
          "metadata": {},
          "execution_count": 47
        }
      ]
    },
    {
      "cell_type": "code",
      "metadata": {
        "colab": {
          "base_uri": "https://localhost:8080/"
        },
        "id": "PgG-IAzvWQwx",
        "outputId": "72b36ac2-e6ed-4bd4-8122-ee7cbbc44cda"
      },
      "source": [
        "147914/(147914+7128)"
      ],
      "execution_count": 183,
      "outputs": [
        {
          "output_type": "execute_result",
          "data": {
            "text/plain": [
              "0.9540253608699578"
            ]
          },
          "metadata": {},
          "execution_count": 183
        }
      ]
    },
    {
      "cell_type": "code",
      "metadata": {
        "colab": {
          "base_uri": "https://localhost:8080/"
        },
        "id": "XroPzRo1WXaz",
        "outputId": "97c8984c-33b5-4bd6-8ea0-9d0ed9aae8fb"
      },
      "source": [
        "147914/(147914+62485)"
      ],
      "execution_count": 48,
      "outputs": [
        {
          "output_type": "execute_result",
          "data": {
            "text/plain": [
              "0.7030166493186755"
            ]
          },
          "metadata": {},
          "execution_count": 48
        }
      ]
    },
    {
      "cell_type": "code",
      "metadata": {
        "colab": {
          "base_uri": "https://localhost:8080/"
        },
        "id": "ScoRo68WW1iD",
        "outputId": "f56dba03-82b9-4630-9cf0-dab4da5e09dc"
      },
      "source": [
        "(2*0.954*0.703)/(0.954+0.703)"
      ],
      "execution_count": 49,
      "outputs": [
        {
          "output_type": "execute_result",
          "data": {
            "text/plain": [
              "0.8094894387447193"
            ]
          },
          "metadata": {},
          "execution_count": 49
        }
      ]
    }
  ]
}