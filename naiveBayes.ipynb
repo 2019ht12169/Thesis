{
  "nbformat": 4,
  "nbformat_minor": 0,
  "metadata": {
    "colab": {
      "name": "naiveBayes.ipynb",
      "provenance": [],
      "collapsed_sections": [],
      "machine_shape": "hm",
      "authorship_tag": "ABX9TyOnEk2f5ctc3XB89QliqTc3",
      "include_colab_link": true
    },
    "kernelspec": {
      "name": "python3",
      "display_name": "Python 3"
    },
    "language_info": {
      "name": "python"
    },
    "accelerator": "TPU"
  },
  "cells": [
    {
      "cell_type": "markdown",
      "metadata": {
        "id": "view-in-github",
        "colab_type": "text"
      },
      "source": [
        "<a href=\"https://colab.research.google.com/github/2019ht12169/Thesis/blob/main/naiveBayes.ipynb\" target=\"_parent\"><img src=\"https://colab.research.google.com/assets/colab-badge.svg\" alt=\"Open In Colab\"/></a>"
      ]
    },
    {
      "cell_type": "code",
      "metadata": {
        "id": "466sFXPlVWG3",
        "colab": {
          "base_uri": "https://localhost:8080/"
        },
        "outputId": "df5c1c1d-7d1e-4067-d1ea-a747a7330953"
      },
      "source": [
        "import pandas as pd \n",
        "import matplotlib.pyplot as plt \n",
        "from sklearn.pipeline import Pipeline\n",
        "from sklearn.feature_extraction.text import CountVectorizer, TfidfTransformer\n",
        "from sklearn.linear_model import LogisticRegression\n",
        "from sklearn.naive_bayes import MultinomialNB\n",
        "from sklearn.metrics import classification_report, confusion_matrix\n",
        "from sklearn.metrics import precision_recall_fscore_support as score\n",
        "\n",
        "import seaborn as sns\n",
        "\n",
        "# Load the data files from drive\n",
        "from google.colab import drive\n",
        "drive.mount(\"/content/gdrive\",force_remount=True)"
      ],
      "execution_count": 7,
      "outputs": [
        {
          "output_type": "stream",
          "name": "stdout",
          "text": [
            "Mounted at /content/gdrive\n"
          ]
        }
      ]
    },
    {
      "cell_type": "code",
      "metadata": {
        "colab": {
          "base_uri": "https://localhost:8080/",
          "height": 419
        },
        "id": "wrmEYEo9dekj",
        "outputId": "b09d4b92-d784-4f88-938e-466dd5921346"
      },
      "source": [
        "train_base_df = pd.read_csv('/content/gdrive/MyDrive/projects/data/dataFile_latest_train.csv') \n",
        "test_base_df = pd.read_csv('/content/gdrive/MyDrive/projects/data/dataFile_latest_test.csv') \n",
        "\n",
        "# Print a Summary of the Train Data\n",
        "# Sentiment Classes are labeled either \"negative\" or \"positive\"\n",
        "train_base_df"
      ],
      "execution_count": 8,
      "outputs": [
        {
          "output_type": "execute_result",
          "data": {
            "text/html": [
              "<div>\n",
              "<style scoped>\n",
              "    .dataframe tbody tr th:only-of-type {\n",
              "        vertical-align: middle;\n",
              "    }\n",
              "\n",
              "    .dataframe tbody tr th {\n",
              "        vertical-align: top;\n",
              "    }\n",
              "\n",
              "    .dataframe thead th {\n",
              "        text-align: right;\n",
              "    }\n",
              "</style>\n",
              "<table border=\"1\" class=\"dataframe\">\n",
              "  <thead>\n",
              "    <tr style=\"text-align: right;\">\n",
              "      <th></th>\n",
              "      <th>label</th>\n",
              "      <th>review_date</th>\n",
              "      <th>text</th>\n",
              "    </tr>\n",
              "  </thead>\n",
              "  <tbody>\n",
              "    <tr>\n",
              "      <th>0</th>\n",
              "      <td>1</td>\n",
              "      <td>2015-01-03</td>\n",
              "      <td>with all the negative reviews i was hesitant t...</td>\n",
              "    </tr>\n",
              "    <tr>\n",
              "      <th>1</th>\n",
              "      <td>1</td>\n",
              "      <td>2013-01-31</td>\n",
              "      <td>nice size radio and sounds good great little r...</td>\n",
              "    </tr>\n",
              "    <tr>\n",
              "      <th>2</th>\n",
              "      <td>1</td>\n",
              "      <td>2014-08-30</td>\n",
              "      <td>good purchase nice compact speaker works great...</td>\n",
              "    </tr>\n",
              "    <tr>\n",
              "      <th>3</th>\n",
              "      <td>1</td>\n",
              "      <td>2007-08-31</td>\n",
              "      <td>working nice since two years i have been using...</td>\n",
              "    </tr>\n",
              "    <tr>\n",
              "      <th>4</th>\n",
              "      <td>1</td>\n",
              "      <td>2014-10-31</td>\n",
              "      <td>as advertised. no complaints. as advertised. n...</td>\n",
              "    </tr>\n",
              "    <tr>\n",
              "      <th>...</th>\n",
              "      <td>...</td>\n",
              "      <td>...</td>\n",
              "      <td>...</td>\n",
              "    </tr>\n",
              "    <tr>\n",
              "      <th>1240171</th>\n",
              "      <td>0</td>\n",
              "      <td>2000-01-23</td>\n",
              "      <td>you get what you pay for the headphones look n...</td>\n",
              "    </tr>\n",
              "    <tr>\n",
              "      <th>1240172</th>\n",
              "      <td>0</td>\n",
              "      <td>2000-01-23</td>\n",
              "      <td>terrible quality i bought this microphone thin...</td>\n",
              "    </tr>\n",
              "    <tr>\n",
              "      <th>1240173</th>\n",
              "      <td>0</td>\n",
              "      <td>2000-01-21</td>\n",
              "      <td>it depends on how you use them. i purchased th...</td>\n",
              "    </tr>\n",
              "    <tr>\n",
              "      <th>1240174</th>\n",
              "      <td>0</td>\n",
              "      <td>2000-01-21</td>\n",
              "      <td>good thing i got if free (buy a minidisc recor...</td>\n",
              "    </tr>\n",
              "    <tr>\n",
              "      <th>1240175</th>\n",
              "      <td>0</td>\n",
              "      <td>2000-01-21</td>\n",
              "      <td>handy for frequent travelers not a serious sho...</td>\n",
              "    </tr>\n",
              "  </tbody>\n",
              "</table>\n",
              "<p>1240176 rows × 3 columns</p>\n",
              "</div>"
            ],
            "text/plain": [
              "         label review_date                                               text\n",
              "0            1  2015-01-03  with all the negative reviews i was hesitant t...\n",
              "1            1  2013-01-31  nice size radio and sounds good great little r...\n",
              "2            1  2014-08-30  good purchase nice compact speaker works great...\n",
              "3            1  2007-08-31  working nice since two years i have been using...\n",
              "4            1  2014-10-31  as advertised. no complaints. as advertised. n...\n",
              "...        ...         ...                                                ...\n",
              "1240171      0  2000-01-23  you get what you pay for the headphones look n...\n",
              "1240172      0  2000-01-23  terrible quality i bought this microphone thin...\n",
              "1240173      0  2000-01-21  it depends on how you use them. i purchased th...\n",
              "1240174      0  2000-01-21  good thing i got if free (buy a minidisc recor...\n",
              "1240175      0  2000-01-21  handy for frequent travelers not a serious sho...\n",
              "\n",
              "[1240176 rows x 3 columns]"
            ]
          },
          "metadata": {},
          "execution_count": 8
        }
      ]
    },
    {
      "cell_type": "code",
      "metadata": {
        "colab": {
          "base_uri": "https://localhost:8080/",
          "height": 359
        },
        "id": "1y32qJGenbS2",
        "outputId": "4e42e499-cfd8-4dbd-d997-8cea36fd0a67"
      },
      "source": [
        "\n",
        "# Replace the Classes with Integer Values\n",
        "train_df = train_base_df.copy()\n",
        "train_df[\"label\"] = train_df[\"label\"].astype('str')\n",
        "train_df[\"label\"] = train_df[\"label\"].replace({\"0\":\"negative\"})\n",
        "train_df[\"label\"] = train_df[\"label\"].replace({\"1\":\"positive\"})\n",
        "\n",
        "# Clean the Test Data\n",
        "test_df = test_base_df.copy()\n",
        "test_df[\"label\"] = test_df[\"label\"].astype('str')\n",
        "test_df[\"label\"] = test_df[\"label\"].replace({\"0\":\"negative\"})\n",
        "test_df[\"label\"] = test_df[\"label\"].replace({\"1\":\"positive\"})\n",
        "\n",
        "# Create a Feature based on Text Length\n",
        "train_df['text_length'] = train_df['text'].str.len() # Store string length of each sample\n",
        "train_df = train_df.sort_values(['text_length'], ascending=True)\n",
        "train_df = train_df.dropna()\n",
        "test_df = test_df.dropna()\n",
        "train_df.head(10)"
      ],
      "execution_count": 11,
      "outputs": [
        {
          "output_type": "execute_result",
          "data": {
            "text/html": [
              "<div>\n",
              "<style scoped>\n",
              "    .dataframe tbody tr th:only-of-type {\n",
              "        vertical-align: middle;\n",
              "    }\n",
              "\n",
              "    .dataframe tbody tr th {\n",
              "        vertical-align: top;\n",
              "    }\n",
              "\n",
              "    .dataframe thead th {\n",
              "        text-align: right;\n",
              "    }\n",
              "</style>\n",
              "<table border=\"1\" class=\"dataframe\">\n",
              "  <thead>\n",
              "    <tr style=\"text-align: right;\">\n",
              "      <th></th>\n",
              "      <th>label</th>\n",
              "      <th>review_date</th>\n",
              "      <th>text</th>\n",
              "      <th>text_length</th>\n",
              "    </tr>\n",
              "  </thead>\n",
              "  <tbody>\n",
              "    <tr>\n",
              "      <th>371430</th>\n",
              "      <td>positive</td>\n",
              "      <td>2014-12-04</td>\n",
              "      <td>a a</td>\n",
              "      <td>3.0</td>\n",
              "    </tr>\n",
              "    <tr>\n",
              "      <th>651275</th>\n",
              "      <td>negative</td>\n",
              "      <td>2015-07-13</td>\n",
              "      <td>a a</td>\n",
              "      <td>3.0</td>\n",
              "    </tr>\n",
              "    <tr>\n",
              "      <th>788915</th>\n",
              "      <td>negative</td>\n",
              "      <td>2014-12-04</td>\n",
              "      <td>a a</td>\n",
              "      <td>3.0</td>\n",
              "    </tr>\n",
              "    <tr>\n",
              "      <th>789027</th>\n",
              "      <td>negative</td>\n",
              "      <td>2014-12-04</td>\n",
              "      <td>a a</td>\n",
              "      <td>3.0</td>\n",
              "    </tr>\n",
              "    <tr>\n",
              "      <th>103726</th>\n",
              "      <td>positive</td>\n",
              "      <td>2014-12-04</td>\n",
              "      <td>a a</td>\n",
              "      <td>3.0</td>\n",
              "    </tr>\n",
              "    <tr>\n",
              "      <th>414895</th>\n",
              "      <td>positive</td>\n",
              "      <td>2015-04-20</td>\n",
              "      <td>a ok</td>\n",
              "      <td>4.0</td>\n",
              "    </tr>\n",
              "    <tr>\n",
              "      <th>439790</th>\n",
              "      <td>positive</td>\n",
              "      <td>2013-04-03</td>\n",
              "      <td>best</td>\n",
              "      <td>4.0</td>\n",
              "    </tr>\n",
              "    <tr>\n",
              "      <th>444091</th>\n",
              "      <td>positive</td>\n",
              "      <td>2014-12-11</td>\n",
              "      <td>ok ok</td>\n",
              "      <td>5.0</td>\n",
              "    </tr>\n",
              "    <tr>\n",
              "      <th>530632</th>\n",
              "      <td>positive</td>\n",
              "      <td>2015-04-09</td>\n",
              "      <td>ok ok</td>\n",
              "      <td>5.0</td>\n",
              "    </tr>\n",
              "    <tr>\n",
              "      <th>844115</th>\n",
              "      <td>negative</td>\n",
              "      <td>2014-08-11</td>\n",
              "      <td>ok ok</td>\n",
              "      <td>5.0</td>\n",
              "    </tr>\n",
              "  </tbody>\n",
              "</table>\n",
              "</div>"
            ],
            "text/plain": [
              "           label review_date   text  text_length\n",
              "371430  positive  2014-12-04    a a          3.0\n",
              "651275  negative  2015-07-13    a a          3.0\n",
              "788915  negative  2014-12-04    a a          3.0\n",
              "789027  negative  2014-12-04    a a          3.0\n",
              "103726  positive  2014-12-04    a a          3.0\n",
              "414895  positive  2015-04-20   a ok          4.0\n",
              "439790  positive  2013-04-03   best          4.0\n",
              "444091  positive  2014-12-11  ok ok          5.0\n",
              "530632  positive  2015-04-09  ok ok          5.0\n",
              "844115  negative  2014-08-11  ok ok          5.0"
            ]
          },
          "metadata": {},
          "execution_count": 11
        }
      ]
    },
    {
      "cell_type": "code",
      "metadata": {
        "colab": {
          "base_uri": "https://localhost:8080/",
          "height": 302
        },
        "id": "MtyDP9cstpn3",
        "outputId": "c3cbc2b5-f261-4172-d8b1-b50cb5b7714b"
      },
      "source": [
        "# Print the Distribution of Sentiment Labels\n",
        "sns.set_theme(style=\"whitegrid\")\n",
        "ax = train_df['label'].value_counts(sort=False).plot(kind='barh', color='b')\n",
        "ax.set_xlabel('Count')\n",
        "ax.set_ylabel('Labels')"
      ],
      "execution_count": 12,
      "outputs": [
        {
          "output_type": "execute_result",
          "data": {
            "text/plain": [
              "Text(0, 0.5, 'Labels')"
            ]
          },
          "metadata": {},
          "execution_count": 12
        },
        {
          "output_type": "display_data",
          "data": {
            "image/png": "[encoded data removed]",
            "text/plain": [
              "<Figure size 432x288 with 1 Axes>"
            ]
          },
          "metadata": {}
        }
      ]
    },
    {
      "cell_type": "code",
      "metadata": {
        "colab": {
          "base_uri": "https://localhost:8080/",
          "height": 319
        },
        "id": "9sy4c_pHuW_H",
        "outputId": "09262e7f-28d4-42ac-9d51-19f7a7e6ec5b"
      },
      "source": [
        "\n",
        "# Visualize a distribution of text_length\n",
        "sns.histplot(data=train_df, x='text_length', bins='auto',color='darkblue');\n",
        "plt.title('Text Length Distribution')"
      ],
      "execution_count": 13,
      "outputs": [
        {
          "output_type": "execute_result",
          "data": {
            "text/plain": [
              "Text(0.5, 1.0, 'Text Length Distribution')"
            ]
          },
          "metadata": {},
          "execution_count": 13
        },
        {
          "output_type": "display_data",
          "data": {
            "image/png": "[encoded data removed]",
            "text/plain": [
              "<Figure size 432x288 with 1 Axes>"
            ]
          },
          "metadata": {}
        }
      ]
    },
    {
      "cell_type": "code",
      "metadata": {
        "colab": {
          "base_uri": "https://localhost:8080/",
          "height": 393
        },
        "id": "R3McIqN1Ylay",
        "outputId": "ce7d8a6f-0b5e-48a6-e82d-b214f24d0e3e"
      },
      "source": [
        "# Create a transformation pipeline\n",
        "pipeline_log = Pipeline([\n",
        "                ('count', CountVectorizer()),\n",
        "                ('tfidf', TfidfTransformer()),\n",
        "                ('clf', LogisticRegression(solver='liblinear', multi_class='auto')),\n",
        "        ])\n",
        "\n",
        "# Train model using the created sklearn pipeline\n",
        "model_name = 'logistic regression classifier'\n",
        "model_lgr = pipeline_log.fit(train_df['text'], train_df['label'])\n",
        "\n",
        "def evaluate_results(model, test_df):\n",
        "    # Predict class labels using the learner function\n",
        "    test_df['pred'] = model.predict(test_df['text'])\n",
        "    y_true = test_df['label']\n",
        "    y_pred = test_df['pred']\n",
        "    target_names = ['negative','positive']\n",
        "\n",
        "    # Print the Confusion Matrix\n",
        "    results_log = classification_report(y_true, y_pred, target_names=target_names, output_dict=True)\n",
        "    results_df_log = pd.DataFrame(results_log).transpose()\n",
        "    print(results_df_log)\n",
        "    matrix = confusion_matrix(y_true,  y_pred)\n",
        "    sns.heatmap(pd.DataFrame(matrix), \n",
        "                annot=True, fmt=\"d\", linewidths=.5, cmap=\"YlGnBu\")\n",
        "    plt.xlabel('Predictions')\n",
        "    plt.xlabel('Actual')\n",
        "    \n",
        "    model_score = score(y_pred, y_true, average='macro')\n",
        "    return model_score\n",
        "\n",
        "    \n",
        "# Evaluate model performance\n",
        "model_score = evaluate_results(model_lgr, test_df)\n",
        "performance_df = pd.DataFrame().append({'model_name': model_name, \n",
        "                                    'f1_score': model_score[0], \n",
        "                                    'precision': model_score[1], \n",
        "                                    'recall': model_score[2]}, ignore_index=True)"
      ],
      "execution_count": 14,
      "outputs": [
        {
          "output_type": "stream",
          "name": "stdout",
          "text": [
            "              precision    recall  f1-score        support\n",
            "negative       0.908482  0.911465  0.909971  155012.000000\n",
            "positive       0.911190  0.908199  0.909692  155042.000000\n",
            "accuracy       0.909832  0.909832  0.909832       0.909832\n",
            "macro avg      0.909836  0.909832  0.909832  310054.000000\n",
            "weighted avg   0.909836  0.909832  0.909832  310054.000000\n"
          ]
        },
        {
          "output_type": "display_data",
          "data": {
            "image/png": "[encoded data removed]",
            "text/plain": [
              "<Figure size 432x288 with 2 Axes>"
            ]
          },
          "metadata": {}
        }
      ]
    },
    {
      "cell_type": "code",
      "metadata": {
        "colab": {
          "base_uri": "https://localhost:8080/",
          "height": 390
        },
        "id": "OSJh9LScuuvv",
        "outputId": "6b119d5f-4fcb-48f7-ed65-1337e227c25c"
      },
      "source": [
        "# Create a pipeline which transforms phrases into normalized feature vectors and uses a bayes estimator\n",
        "model_name = 'bayes classifier'\n",
        "\n",
        "pipeline_bayes = Pipeline([\n",
        "                ('count', CountVectorizer()),\n",
        "                ('tfidf', TfidfTransformer()),\n",
        "                ('gnb', MultinomialNB()),\n",
        "                ])\n",
        "\n",
        "# Train model using the created sklearn pipeline\n",
        "model_bayes = pipeline_bayes.fit(train_df['text'], train_df['label'])\n",
        "\n",
        "# Evaluate model performance\n",
        "model_score = evaluate_results(model_bayes, test_df)\n",
        "performance_df = performance_df.append({'model_name': model_name, \n",
        "                                    'f1_score': model_score[0], \n",
        "                                    'precision': model_score[1], \n",
        "                                    'recall': model_score[2]}, ignore_index=True)"
      ],
      "execution_count": 15,
      "outputs": [
        {
          "output_type": "stream",
          "name": "stdout",
          "text": [
            "              precision    recall  f1-score        support\n",
            "negative       0.852549  0.894711  0.873122  155012.000000\n",
            "positive       0.889256  0.845287  0.866714  155042.000000\n",
            "accuracy       0.869997  0.869997  0.869997       0.869997\n",
            "macro avg      0.870903  0.869999  0.869918  310054.000000\n",
            "weighted avg   0.870904  0.869997  0.869918  310054.000000\n"
          ]
        },
        {
          "output_type": "display_data",
          "data": {
            "image/png": "[encoded data removed]",
            "text/plain": [
              "<Figure size 432x288 with 2 Axes>"
            ]
          },
          "metadata": {}
        }
      ]
    },
    {
      "cell_type": "code",
      "metadata": {
        "colab": {
          "base_uri": "https://localhost:8080/",
          "height": 360
        },
        "id": "qG0-fDIvzgtl",
        "outputId": "d1edb137-85af-4b6a-a6a7-11808fe52946"
      },
      "source": [
        "# Compare model performance\n",
        "print(performance_df)\n",
        "\n",
        "performance_df = performance_df.sort_values('model_name')\n",
        "fig, ax = plt.subplots(figsize=(12, 4))\n",
        "tidy = performance_df.melt(id_vars='model_name').rename(columns=str.title)\n",
        "sns.barplot(y='Model_Name', x='Value', hue='Variable', data=tidy, ax=ax, palette='husl',  linewidth=1, edgecolor=\"w\")\n",
        "plt.title('Model Outlier Detection Performance (Macro)')"
      ],
      "execution_count": 16,
      "outputs": [
        {
          "output_type": "stream",
          "name": "stdout",
          "text": [
            "   f1_score                      model_name  precision    recall\n",
            "0  0.909832  logistic regression classifier   0.909836  0.909832\n",
            "1  0.869999                bayes classifier   0.870903  0.869918\n"
          ]
        },
        {
          "output_type": "execute_result",
          "data": {
            "text/plain": [
              "Text(0.5, 1.0, 'Model Outlier Detection Performance (Macro)')"
            ]
          },
          "metadata": {},
          "execution_count": 16
        },
        {
          "output_type": "display_data",
          "data": {
            "image/png": "[encoded data removed]",
            "text/plain": [
              "<Figure size 864x288 with 1 Axes>"
            ]
          },
          "metadata": {}
        }
      ]
    },
    {
      "cell_type": "code",
      "metadata": {
        "colab": {
          "base_uri": "https://localhost:8080/"
        },
        "id": "xM3F1kFQZS01",
        "outputId": "655e85dd-d159-44f7-e00c-c4179f73a12b"
      },
      "source": [
        "testphrases = ['Mondays just suck!', 'I love this product', 'Terrible service']\n",
        "for testphrase in testphrases:\n",
        "    resultx = model_lgr.predict([testphrase]) # use model_bayes for predictions with the other model\n",
        "    print(testphrase + '-> ' + resultx[0])"
      ],
      "execution_count": 27,
      "outputs": [
        {
          "output_type": "stream",
          "name": "stdout",
          "text": [
            "Mondays just suck!-> negative\n",
            "I love this product-> positive\n",
            "Terrible service-> negative\n"
          ]
        }
      ]
    }
  ]
}