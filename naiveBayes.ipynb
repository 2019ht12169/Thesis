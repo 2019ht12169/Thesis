{
  "nbformat": 4,
  "nbformat_minor": 0,
  "metadata": {
    "colab": {
      "name": "naiveBayes.ipynb",
      "provenance": [],
      "collapsed_sections": [],
      "machine_shape": "hm",
      "authorship_tag": "ABX9TyOKs05X10Ga5K10xq7o8dTU",
      "include_colab_link": true
    },
    "kernelspec": {
      "name": "python3",
      "display_name": "Python 3"
    },
    "language_info": {
      "name": "python"
    },
    "accelerator": "TPU"
  },
  "cells": [
    {
      "cell_type": "markdown",
      "metadata": {
        "id": "view-in-github",
        "colab_type": "text"
      },
      "source": [
        "<a href=\"https://colab.research.google.com/github/2019ht12169/Thesis/blob/main/naiveBayes.ipynb\" target=\"_parent\"><img src=\"https://colab.research.google.com/assets/colab-badge.svg\" alt=\"Open In Colab\"/></a>"
      ]
    },
    {
      "cell_type": "code",
      "metadata": {
        "id": "466sFXPlVWG3",
        "colab": {
          "base_uri": "https://localhost:8080/"
        },
        "outputId": "dc13ebf9-5eab-4cd7-e0f4-ab45c4b4ba0a"
      },
      "source": [
        "import pandas as pd \n",
        "import matplotlib.pyplot as plt \n",
        "from sklearn.pipeline import Pipeline\n",
        "from sklearn.feature_extraction.text import CountVectorizer, TfidfTransformer\n",
        "from sklearn.linear_model import LogisticRegression\n",
        "from sklearn.naive_bayes import MultinomialNB\n",
        "from sklearn.metrics import classification_report, confusion_matrix\n",
        "from sklearn.metrics import precision_recall_fscore_support as score\n",
        "\n",
        "import seaborn as sns\n",
        "\n",
        "# Load the data files from drive\n",
        "from google.colab import drive\n",
        "drive.mount(\"/content/gdrive\",force_remount=True)\n"
      ],
      "execution_count": 1,
      "outputs": [
        {
          "output_type": "stream",
          "name": "stdout",
          "text": [
            "Mounted at /content/gdrive\n"
          ]
        }
      ]
    },
    {
      "cell_type": "code",
      "metadata": {
        "colab": {
          "base_uri": "https://localhost:8080/",
          "height": 419
        },
        "id": "wrmEYEo9dekj",
        "outputId": "d1394e08-9223-425d-8325-976672001d47"
      },
      "source": [
        "train_base_df = pd.read_csv('/content/gdrive/MyDrive/projects/data/dataFile_latest_train.csv') \n",
        "test_base_df = pd.read_csv('/content/gdrive/MyDrive/projects/data/dataFile_latest_test.csv') \n",
        "\n",
        "# Print a Summary of the Train Data\n",
        "# Sentiment Classes are labeled either \"negative\" or \"positive\"\n",
        "train_base_df"
      ],
      "execution_count": 13,
      "outputs": [
        {
          "output_type": "execute_result",
          "data": {
            "text/html": [
              "<div>\n",
              "<style scoped>\n",
              "    .dataframe tbody tr th:only-of-type {\n",
              "        vertical-align: middle;\n",
              "    }\n",
              "\n",
              "    .dataframe tbody tr th {\n",
              "        vertical-align: top;\n",
              "    }\n",
              "\n",
              "    .dataframe thead th {\n",
              "        text-align: right;\n",
              "    }\n",
              "</style>\n",
              "<table border=\"1\" class=\"dataframe\">\n",
              "  <thead>\n",
              "    <tr style=\"text-align: right;\">\n",
              "      <th></th>\n",
              "      <th>label</th>\n",
              "      <th>review_date</th>\n",
              "      <th>text</th>\n",
              "    </tr>\n",
              "  </thead>\n",
              "  <tbody>\n",
              "    <tr>\n",
              "      <th>0</th>\n",
              "      <td>0</td>\n",
              "      <td>2013-03-19</td>\n",
              "      <td>worked well for 1 day the hdmi cable was great...</td>\n",
              "    </tr>\n",
              "    <tr>\n",
              "      <th>1</th>\n",
              "      <td>0</td>\n",
              "      <td>2014-01-10</td>\n",
              "      <td>jbl j55 sound quality is okay. but it is very ...</td>\n",
              "    </tr>\n",
              "    <tr>\n",
              "      <th>2</th>\n",
              "      <td>0</td>\n",
              "      <td>2014-07-13</td>\n",
              "      <td>expect to buy again soon!! this product was de...</td>\n",
              "    </tr>\n",
              "    <tr>\n",
              "      <th>3</th>\n",
              "      <td>0</td>\n",
              "      <td>2013-12-16</td>\n",
              "      <td>it did not work i bought this product and and ...</td>\n",
              "    </tr>\n",
              "    <tr>\n",
              "      <th>4</th>\n",
              "      <td>0</td>\n",
              "      <td>2015-05-14</td>\n",
              "      <td>two stars enjoyed but cheaply made broke first...</td>\n",
              "    </tr>\n",
              "    <tr>\n",
              "      <th>...</th>\n",
              "      <td>...</td>\n",
              "      <td>...</td>\n",
              "      <td>...</td>\n",
              "    </tr>\n",
              "    <tr>\n",
              "      <th>6031</th>\n",
              "      <td>0</td>\n",
              "      <td>2001-05-29</td>\n",
              "      <td>difficult to use i felt the unit had good look...</td>\n",
              "    </tr>\n",
              "    <tr>\n",
              "      <th>6032</th>\n",
              "      <td>0</td>\n",
              "      <td>2012-12-09</td>\n",
              "      <td>wrong coverter couldent get it too work with m...</td>\n",
              "    </tr>\n",
              "    <tr>\n",
              "      <th>6033</th>\n",
              "      <td>0</td>\n",
              "      <td>2015-03-21</td>\n",
              "      <td>they work. these av cables work well but the p...</td>\n",
              "    </tr>\n",
              "    <tr>\n",
              "      <th>6034</th>\n",
              "      <td>0</td>\n",
              "      <td>2013-03-11</td>\n",
              "      <td>okay but nothing fance don't buy these if you ...</td>\n",
              "    </tr>\n",
              "    <tr>\n",
              "      <th>6035</th>\n",
              "      <td>0</td>\n",
              "      <td>2014-05-29</td>\n",
              "      <td>2 stars becuase the cd and tape and radio work...</td>\n",
              "    </tr>\n",
              "  </tbody>\n",
              "</table>\n",
              "<p>6036 rows × 3 columns</p>\n",
              "</div>"
            ],
            "text/plain": [
              "      label review_date                                               text\n",
              "0         0  2013-03-19  worked well for 1 day the hdmi cable was great...\n",
              "1         0  2014-01-10  jbl j55 sound quality is okay. but it is very ...\n",
              "2         0  2014-07-13  expect to buy again soon!! this product was de...\n",
              "3         0  2013-12-16  it did not work i bought this product and and ...\n",
              "4         0  2015-05-14  two stars enjoyed but cheaply made broke first...\n",
              "...     ...         ...                                                ...\n",
              "6031      0  2001-05-29  difficult to use i felt the unit had good look...\n",
              "6032      0  2012-12-09  wrong coverter couldent get it too work with m...\n",
              "6033      0  2015-03-21  they work. these av cables work well but the p...\n",
              "6034      0  2013-03-11  okay but nothing fance don't buy these if you ...\n",
              "6035      0  2014-05-29  2 stars becuase the cd and tape and radio work...\n",
              "\n",
              "[6036 rows x 3 columns]"
            ]
          },
          "metadata": {},
          "execution_count": 13
        }
      ]
    },
    {
      "cell_type": "code",
      "metadata": {
        "colab": {
          "base_uri": "https://localhost:8080/",
          "height": 203
        },
        "id": "1y32qJGenbS2",
        "outputId": "f85db0e8-04f7-4293-a797-43378e1bce5c"
      },
      "source": [
        "\n",
        "# Replace the Classes with Integer Values\n",
        "train_df = train_base_df.copy()\n",
        "train_df[\"label\"] = train_df[\"label\"].astype('str')\n",
        "train_df[\"label\"] = train_df[\"label\"].replace({\"0\":\"negative\"})\n",
        "train_df[\"label\"] = train_df[\"label\"].replace({\"1\":\"positive\"})\n",
        "\n",
        "# Clean the Test Data\n",
        "test_df = test_base_df.copy()\n",
        "test_df[\"label\"] = test_df[\"label\"].astype('str')\n",
        "test_df[\"label\"] = test_df[\"label\"].replace({\"0\":\"negative\"})\n",
        "test_df[\"label\"] = test_df[\"label\"].replace({\"1\":\"positive\"})\n",
        "\n",
        "# Create a Feature based on Text Length\n",
        "train_df['text_length'] = train_df['text'].str.len() # Store string length of each sample\n",
        "train_df = train_df.sort_values(['text_length'], ascending=True)\n",
        "train_df = train_df.dropna()\n",
        "test_df = test_df.dropna()\n",
        "\n",
        "train_df.head()"
      ],
      "execution_count": 14,
      "outputs": [
        {
          "output_type": "execute_result",
          "data": {
            "text/html": [
              "<div>\n",
              "<style scoped>\n",
              "    .dataframe tbody tr th:only-of-type {\n",
              "        vertical-align: middle;\n",
              "    }\n",
              "\n",
              "    .dataframe tbody tr th {\n",
              "        vertical-align: top;\n",
              "    }\n",
              "\n",
              "    .dataframe thead th {\n",
              "        text-align: right;\n",
              "    }\n",
              "</style>\n",
              "<table border=\"1\" class=\"dataframe\">\n",
              "  <thead>\n",
              "    <tr style=\"text-align: right;\">\n",
              "      <th></th>\n",
              "      <th>label</th>\n",
              "      <th>review_date</th>\n",
              "      <th>text</th>\n",
              "      <th>text_length</th>\n",
              "    </tr>\n",
              "  </thead>\n",
              "  <tbody>\n",
              "    <tr>\n",
              "      <th>3544</th>\n",
              "      <td>positive</td>\n",
              "      <td>2015-03-05</td>\n",
              "      <td>junk junk</td>\n",
              "      <td>9</td>\n",
              "    </tr>\n",
              "    <tr>\n",
              "      <th>4469</th>\n",
              "      <td>positive</td>\n",
              "      <td>2015-01-12</td>\n",
              "      <td>good good</td>\n",
              "      <td>9</td>\n",
              "    </tr>\n",
              "    <tr>\n",
              "      <th>4733</th>\n",
              "      <td>positive</td>\n",
              "      <td>2015-07-18</td>\n",
              "      <td>handy handy</td>\n",
              "      <td>11</td>\n",
              "    </tr>\n",
              "    <tr>\n",
              "      <th>3572</th>\n",
              "      <td>positive</td>\n",
              "      <td>2015-01-08</td>\n",
              "      <td>fire so cool</td>\n",
              "      <td>12</td>\n",
              "    </tr>\n",
              "    <tr>\n",
              "      <th>4759</th>\n",
              "      <td>positive</td>\n",
              "      <td>2015-01-03</td>\n",
              "      <td>four stars k</td>\n",
              "      <td>12</td>\n",
              "    </tr>\n",
              "  </tbody>\n",
              "</table>\n",
              "</div>"
            ],
            "text/plain": [
              "         label review_date          text  text_length\n",
              "3544  positive  2015-03-05     junk junk            9\n",
              "4469  positive  2015-01-12     good good            9\n",
              "4733  positive  2015-07-18   handy handy           11\n",
              "3572  positive  2015-01-08  fire so cool           12\n",
              "4759  positive  2015-01-03  four stars k           12"
            ]
          },
          "metadata": {},
          "execution_count": 14
        }
      ]
    },
    {
      "cell_type": "code",
      "metadata": {
        "colab": {
          "base_uri": "https://localhost:8080/",
          "height": 302
        },
        "id": "MtyDP9cstpn3",
        "outputId": "e5c17ff8-a83a-4af4-cef0-897432113fe9"
      },
      "source": [
        "# Print the Distribution of Sentiment Labels\n",
        "sns.set_theme(style=\"whitegrid\")\n",
        "ax = train_df['label'].value_counts(sort=False).plot(kind='barh', color='b')\n",
        "ax.set_xlabel('Count')\n",
        "ax.set_ylabel('Labels')"
      ],
      "execution_count": 15,
      "outputs": [
        {
          "output_type": "execute_result",
          "data": {
            "text/plain": [
              "Text(0, 0.5, 'Labels')"
            ]
          },
          "metadata": {},
          "execution_count": 15
        },
        {
          "output_type": "display_data",
          "data": {
            "image/png": "[encoded data removed]",
            "text/plain": [
              "<Figure size 432x288 with 1 Axes>"
            ]
          },
          "metadata": {}
        }
      ]
    },
    {
      "cell_type": "code",
      "metadata": {
        "colab": {
          "base_uri": "https://localhost:8080/",
          "height": 319
        },
        "id": "9sy4c_pHuW_H",
        "outputId": "eb7733a7-16cf-4fe5-8064-fd2f2286a3e0"
      },
      "source": [
        "\n",
        "# Visualize a distribution of text_length\n",
        "sns.histplot(data=train_df, x='text_length', bins='auto',color='darkblue');\n",
        "plt.title('Text Length Distribution')"
      ],
      "execution_count": 23,
      "outputs": [
        {
          "output_type": "execute_result",
          "data": {
            "text/plain": [
              "Text(0.5, 1.0, 'Text Length Distribution')"
            ]
          },
          "metadata": {},
          "execution_count": 23
        },
        {
          "output_type": "display_data",
          "data": {
            "image/png": "[encoded data removed]",
            "text/plain": [
              "<Figure size 432x288 with 1 Axes>"
            ]
          },
          "metadata": {}
        }
      ]
    },
    {
      "cell_type": "code",
      "metadata": {
        "colab": {
          "base_uri": "https://localhost:8080/",
          "height": 390
        },
        "id": "R3McIqN1Ylay",
        "outputId": "05138e0c-3a6d-4a20-cf59-984bc9e353f5"
      },
      "source": [
        "# Create a transformation pipeline\n",
        "pipeline_log = Pipeline([\n",
        "                ('count', CountVectorizer()),\n",
        "                ('tfidf', TfidfTransformer()),\n",
        "                ('clf', LogisticRegression(solver='liblinear', multi_class='auto')),\n",
        "        ])\n",
        "\n",
        "# Train model using the created sklearn pipeline\n",
        "model_name = 'logistic regression classifier'\n",
        "model_lgr = pipeline_log.fit(train_df['text'], train_df['label'])\n",
        "\n",
        "def evaluate_results(model, test_df):\n",
        "    # Predict class labels using the learner function\n",
        "    test_df['pred'] = model.predict(test_df['text'])\n",
        "    y_true = test_df['label']\n",
        "    y_pred = test_df['pred']\n",
        "    target_names = ['negative','positive']\n",
        "\n",
        "    # Print the Confusion Matrix\n",
        "    results_log = classification_report(y_true, y_pred, target_names=target_names, output_dict=True)\n",
        "    results_df_log = pd.DataFrame(results_log).transpose()\n",
        "    print(results_df_log)\n",
        "    matrix = confusion_matrix(y_true,  y_pred)\n",
        "    sns.heatmap(pd.DataFrame(matrix), \n",
        "                annot=True, fmt=\"d\", linewidths=.5, cmap=\"YlGnBu\")\n",
        "    plt.xlabel('Predictions')\n",
        "    plt.xlabel('Actual')\n",
        "    \n",
        "    model_score = score(y_pred, y_true, average='macro')\n",
        "    return model_score\n",
        "\n",
        "    \n",
        "# Evaluate model performance\n",
        "model_score = evaluate_results(model_lgr, test_df)\n",
        "performance_df = pd.DataFrame().append({'model_name': model_name, \n",
        "                                    'f1_score': model_score[0], \n",
        "                                    'precision': model_score[1], \n",
        "                                    'recall': model_score[2]}, ignore_index=True)"
      ],
      "execution_count": 24,
      "outputs": [
        {
          "output_type": "stream",
          "name": "stdout",
          "text": [
            "              precision    recall  f1-score      support\n",
            "negative       0.771845  0.771845  0.771845  1236.000000\n",
            "positive       0.922719  0.922719  0.922719  3649.000000\n",
            "accuracy       0.884545  0.884545  0.884545     0.884545\n",
            "macro avg      0.847282  0.847282  0.847282  4885.000000\n",
            "weighted avg   0.884545  0.884545  0.884545  4885.000000\n"
          ]
        },
        {
          "output_type": "display_data",
          "data": {
            "image/png": "[encoded data removed]",
            "text/plain": [
              "<Figure size 432x288 with 2 Axes>"
            ]
          },
          "metadata": {}
        }
      ]
    },
    {
      "cell_type": "code",
      "metadata": {
        "colab": {
          "base_uri": "https://localhost:8080/",
          "height": 390
        },
        "id": "OSJh9LScuuvv",
        "outputId": "50283866-7f07-4f2a-8595-b0762c096f3e"
      },
      "source": [
        "# Create a pipeline which transforms phrases into normalized feature vectors and uses a bayes estimator\n",
        "model_name = 'bayes classifier'\n",
        "\n",
        "pipeline_bayes = Pipeline([\n",
        "                ('count', CountVectorizer()),\n",
        "                ('tfidf', TfidfTransformer()),\n",
        "                ('gnb', MultinomialNB()),\n",
        "                ])\n",
        "\n",
        "# Train model using the created sklearn pipeline\n",
        "model_bayes = pipeline_bayes.fit(train_df['text'], train_df['label'])\n",
        "\n",
        "# Evaluate model performance\n",
        "model_score = evaluate_results(model_bayes, test_df)\n",
        "performance_df = performance_df.append({'model_name': model_name, \n",
        "                                    'f1_score': model_score[0], \n",
        "                                    'precision': model_score[1], \n",
        "                                    'recall': model_score[2]}, ignore_index=True)"
      ],
      "execution_count": 25,
      "outputs": [
        {
          "output_type": "stream",
          "name": "stdout",
          "text": [
            "              precision    recall  f1-score      support\n",
            "negative       0.905292  0.525890  0.665302  1236.000000\n",
            "positive       0.859371  0.981365  0.916325  3649.000000\n",
            "accuracy       0.866121  0.866121  0.866121     0.866121\n",
            "macro avg      0.882332  0.753627  0.790814  4885.000000\n",
            "weighted avg   0.870990  0.866121  0.852812  4885.000000\n"
          ]
        },
        {
          "output_type": "display_data",
          "data": {
            "image/png": "[encoded data removed]",
            "text/plain": [
              "<Figure size 432x288 with 2 Axes>"
            ]
          },
          "metadata": {}
        }
      ]
    },
    {
      "cell_type": "code",
      "metadata": {
        "colab": {
          "base_uri": "https://localhost:8080/",
          "height": 319
        },
        "id": "qG0-fDIvzgtl",
        "outputId": "b96a053c-ac92-42d9-f6af-2dce8255659a"
      },
      "source": [
        "# Compare model performance\n",
        "print(performance_df)\n",
        "\n",
        "performance_df = performance_df.sort_values('model_name')\n",
        "fig, ax = plt.subplots(figsize=(12, 4))\n",
        "tidy = performance_df.melt(id_vars='model_name').rename(columns=str.title)\n",
        "sns.barplot(y='Model_Name', x='Value', hue='Variable', data=tidy, ax=ax, palette='husl',  linewidth=1, edgecolor=\"w\")\n",
        "plt.title('Model Outlier Detection Performance (Macro)')"
      ],
      "execution_count": 26,
      "outputs": [
        {
          "output_type": "stream",
          "name": "stdout",
          "text": [
            "   f1_score                      model_name  precision    recall\n",
            "0  0.847282  logistic regression classifier   0.847282  0.847282\n",
            "1  0.753627                bayes classifier   0.882332  0.790814\n"
          ]
        },
        {
          "output_type": "execute_result",
          "data": {
            "text/plain": [
              "Text(0.5, 1.0, 'Model Outlier Detection Performance (Macro)')"
            ]
          },
          "metadata": {},
          "execution_count": 26
        },
        {
          "output_type": "display_data",
          "data": {
            "image/png": "[encoded data removed]",
            "text/plain": [
              "<Figure size 864x288 with 1 Axes>"
            ]
          },
          "metadata": {}
        }
      ]
    },
    {
      "cell_type": "code",
      "metadata": {
        "colab": {
          "base_uri": "https://localhost:8080/"
        },
        "id": "xM3F1kFQZS01",
        "outputId": "befbe734-35ee-461f-f336-206ec61dc96a"
      },
      "source": [
        "testphrases = ['Mondays just suck!', 'I love this product', 'That is a tree', 'Terrible service']\n",
        "for testphrase in testphrases:\n",
        "    resultx = model_lgr.predict([testphrase]) # use model_bayes for predictions with the other model\n",
        "    print(testphrase + '-> ' + resultx[0])"
      ],
      "execution_count": 27,
      "outputs": [
        {
          "output_type": "stream",
          "name": "stdout",
          "text": [
            "Mondays just suck!-> positive\n",
            "I love this product-> positive\n",
            "That is a tree-> positive\n",
            "Terrible service-> negative\n"
          ]
        }
      ]
    }
  ]
}